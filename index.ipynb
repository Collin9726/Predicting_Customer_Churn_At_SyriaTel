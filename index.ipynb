{
 "cells": [
  {
   "cell_type": "markdown",
   "metadata": {},
   "source": [
    "## PREDICTING CUSTOMER CHURN AT SYRIATEL"
   ]
  },
  {
   "cell_type": "markdown",
   "metadata": {},
   "source": [
    "### INTRODUCTION"
   ]
  },
  {
   "cell_type": "markdown",
   "metadata": {},
   "source": [
    "Syriatel is a telecommunications company providing mobile network services in Syria. The company seeks to be able to predict which customers are likely to drop them as their mobile network provider so as to put measures forehand to incentivize them. They have records in their database detailing customer mobile services usage over the past couple of years and whether they churned or not. Using this data, we are tasked to do an analysis and develop a machine learning model that will predict whether a customer will drop their services or not."
   ]
  },
  {
   "cell_type": "markdown",
   "metadata": {},
   "source": [
    "### OBJECTIVES"
   ]
  },
  {
   "cell_type": "markdown",
   "metadata": {},
   "source": [
    "1. To analyze customer data from Syriatel and understand which features are likely to predict customer churn.\n",
    "2. To clean up the data and come up with a suitable predictive model that will classify a customer as likely to churn or not.\n",
    "3. To evaluate the performance of the model interpreting its results and limitations."
   ]
  },
  {
   "cell_type": "markdown",
   "metadata": {},
   "source": [
    "### DATA UNDERSTANDING"
   ]
  },
  {
   "cell_type": "markdown",
   "metadata": {},
   "source": [
    "We will be using data from the file ```syriatel_customer_churn.csv``` in the ```data``` folder. The data contains various features that we shall analyze to predict whether a customer would continue using Syriatel services or would churn. These features are listed below and include number and length of calls made by a customer at various times and which plans they have subscribed to. The target feature is the ```churn``` column which tells us whether or not the customer churned."
   ]
  },
  {
   "cell_type": "code",
   "execution_count": 1,
   "metadata": {},
   "outputs": [
    {
     "data": {
      "text/html": [
       "<div>\n",
       "<style scoped>\n",
       "    .dataframe tbody tr th:only-of-type {\n",
       "        vertical-align: middle;\n",
       "    }\n",
       "\n",
       "    .dataframe tbody tr th {\n",
       "        vertical-align: top;\n",
       "    }\n",
       "\n",
       "    .dataframe thead th {\n",
       "        text-align: right;\n",
       "    }\n",
       "</style>\n",
       "<table border=\"1\" class=\"dataframe\">\n",
       "  <thead>\n",
       "    <tr style=\"text-align: right;\">\n",
       "      <th></th>\n",
       "      <th>state</th>\n",
       "      <th>account length</th>\n",
       "      <th>area code</th>\n",
       "      <th>phone number</th>\n",
       "      <th>international plan</th>\n",
       "      <th>voice mail plan</th>\n",
       "      <th>number vmail messages</th>\n",
       "      <th>total day minutes</th>\n",
       "      <th>total day calls</th>\n",
       "      <th>total day charge</th>\n",
       "      <th>...</th>\n",
       "      <th>total eve calls</th>\n",
       "      <th>total eve charge</th>\n",
       "      <th>total night minutes</th>\n",
       "      <th>total night calls</th>\n",
       "      <th>total night charge</th>\n",
       "      <th>total intl minutes</th>\n",
       "      <th>total intl calls</th>\n",
       "      <th>total intl charge</th>\n",
       "      <th>customer service calls</th>\n",
       "      <th>churn</th>\n",
       "    </tr>\n",
       "  </thead>\n",
       "  <tbody>\n",
       "    <tr>\n",
       "      <th>0</th>\n",
       "      <td>KS</td>\n",
       "      <td>128</td>\n",
       "      <td>415</td>\n",
       "      <td>382-4657</td>\n",
       "      <td>no</td>\n",
       "      <td>yes</td>\n",
       "      <td>25</td>\n",
       "      <td>265.1</td>\n",
       "      <td>110</td>\n",
       "      <td>45.07</td>\n",
       "      <td>...</td>\n",
       "      <td>99</td>\n",
       "      <td>16.78</td>\n",
       "      <td>244.7</td>\n",
       "      <td>91</td>\n",
       "      <td>11.01</td>\n",
       "      <td>10.0</td>\n",
       "      <td>3</td>\n",
       "      <td>2.70</td>\n",
       "      <td>1</td>\n",
       "      <td>False</td>\n",
       "    </tr>\n",
       "    <tr>\n",
       "      <th>1</th>\n",
       "      <td>OH</td>\n",
       "      <td>107</td>\n",
       "      <td>415</td>\n",
       "      <td>371-7191</td>\n",
       "      <td>no</td>\n",
       "      <td>yes</td>\n",
       "      <td>26</td>\n",
       "      <td>161.6</td>\n",
       "      <td>123</td>\n",
       "      <td>27.47</td>\n",
       "      <td>...</td>\n",
       "      <td>103</td>\n",
       "      <td>16.62</td>\n",
       "      <td>254.4</td>\n",
       "      <td>103</td>\n",
       "      <td>11.45</td>\n",
       "      <td>13.7</td>\n",
       "      <td>3</td>\n",
       "      <td>3.70</td>\n",
       "      <td>1</td>\n",
       "      <td>False</td>\n",
       "    </tr>\n",
       "    <tr>\n",
       "      <th>2</th>\n",
       "      <td>NJ</td>\n",
       "      <td>137</td>\n",
       "      <td>415</td>\n",
       "      <td>358-1921</td>\n",
       "      <td>no</td>\n",
       "      <td>no</td>\n",
       "      <td>0</td>\n",
       "      <td>243.4</td>\n",
       "      <td>114</td>\n",
       "      <td>41.38</td>\n",
       "      <td>...</td>\n",
       "      <td>110</td>\n",
       "      <td>10.30</td>\n",
       "      <td>162.6</td>\n",
       "      <td>104</td>\n",
       "      <td>7.32</td>\n",
       "      <td>12.2</td>\n",
       "      <td>5</td>\n",
       "      <td>3.29</td>\n",
       "      <td>0</td>\n",
       "      <td>False</td>\n",
       "    </tr>\n",
       "    <tr>\n",
       "      <th>3</th>\n",
       "      <td>OH</td>\n",
       "      <td>84</td>\n",
       "      <td>408</td>\n",
       "      <td>375-9999</td>\n",
       "      <td>yes</td>\n",
       "      <td>no</td>\n",
       "      <td>0</td>\n",
       "      <td>299.4</td>\n",
       "      <td>71</td>\n",
       "      <td>50.90</td>\n",
       "      <td>...</td>\n",
       "      <td>88</td>\n",
       "      <td>5.26</td>\n",
       "      <td>196.9</td>\n",
       "      <td>89</td>\n",
       "      <td>8.86</td>\n",
       "      <td>6.6</td>\n",
       "      <td>7</td>\n",
       "      <td>1.78</td>\n",
       "      <td>2</td>\n",
       "      <td>False</td>\n",
       "    </tr>\n",
       "    <tr>\n",
       "      <th>4</th>\n",
       "      <td>OK</td>\n",
       "      <td>75</td>\n",
       "      <td>415</td>\n",
       "      <td>330-6626</td>\n",
       "      <td>yes</td>\n",
       "      <td>no</td>\n",
       "      <td>0</td>\n",
       "      <td>166.7</td>\n",
       "      <td>113</td>\n",
       "      <td>28.34</td>\n",
       "      <td>...</td>\n",
       "      <td>122</td>\n",
       "      <td>12.61</td>\n",
       "      <td>186.9</td>\n",
       "      <td>121</td>\n",
       "      <td>8.41</td>\n",
       "      <td>10.1</td>\n",
       "      <td>3</td>\n",
       "      <td>2.73</td>\n",
       "      <td>3</td>\n",
       "      <td>False</td>\n",
       "    </tr>\n",
       "  </tbody>\n",
       "</table>\n",
       "<p>5 rows × 21 columns</p>\n",
       "</div>"
      ],
      "text/plain": [
       "  state  account length  area code phone number international plan  \\\n",
       "0    KS             128        415     382-4657                 no   \n",
       "1    OH             107        415     371-7191                 no   \n",
       "2    NJ             137        415     358-1921                 no   \n",
       "3    OH              84        408     375-9999                yes   \n",
       "4    OK              75        415     330-6626                yes   \n",
       "\n",
       "  voice mail plan  number vmail messages  total day minutes  total day calls  \\\n",
       "0             yes                     25              265.1              110   \n",
       "1             yes                     26              161.6              123   \n",
       "2              no                      0              243.4              114   \n",
       "3              no                      0              299.4               71   \n",
       "4              no                      0              166.7              113   \n",
       "\n",
       "   total day charge  ...  total eve calls  total eve charge  \\\n",
       "0             45.07  ...               99             16.78   \n",
       "1             27.47  ...              103             16.62   \n",
       "2             41.38  ...              110             10.30   \n",
       "3             50.90  ...               88              5.26   \n",
       "4             28.34  ...              122             12.61   \n",
       "\n",
       "   total night minutes  total night calls  total night charge  \\\n",
       "0                244.7                 91               11.01   \n",
       "1                254.4                103               11.45   \n",
       "2                162.6                104                7.32   \n",
       "3                196.9                 89                8.86   \n",
       "4                186.9                121                8.41   \n",
       "\n",
       "   total intl minutes  total intl calls  total intl charge  \\\n",
       "0                10.0                 3               2.70   \n",
       "1                13.7                 3               3.70   \n",
       "2                12.2                 5               3.29   \n",
       "3                 6.6                 7               1.78   \n",
       "4                10.1                 3               2.73   \n",
       "\n",
       "   customer service calls  churn  \n",
       "0                       1  False  \n",
       "1                       1  False  \n",
       "2                       0  False  \n",
       "3                       2  False  \n",
       "4                       3  False  \n",
       "\n",
       "[5 rows x 21 columns]"
      ]
     },
     "execution_count": 1,
     "metadata": {},
     "output_type": "execute_result"
    }
   ],
   "source": [
    "import numpy as np\n",
    "import pandas as pd\n",
    "import matplotlib.pyplot as plt\n",
    "import seaborn as sns\n",
    "%matplotlib inline\n",
    "\n",
    "df = pd.read_csv(\"data/syriatel_customer_churn.csv\")\n",
    "df.head()"
   ]
  },
  {
   "cell_type": "code",
   "execution_count": 2,
   "metadata": {},
   "outputs": [
    {
     "data": {
      "text/plain": [
       "(3333, 21)"
      ]
     },
     "execution_count": 2,
     "metadata": {},
     "output_type": "execute_result"
    }
   ],
   "source": [
    "df.shape"
   ]
  },
  {
   "cell_type": "code",
   "execution_count": 3,
   "metadata": {},
   "outputs": [
    {
     "name": "stdout",
     "output_type": "stream",
     "text": [
      "<class 'pandas.core.frame.DataFrame'>\n",
      "RangeIndex: 3333 entries, 0 to 3332\n",
      "Data columns (total 21 columns):\n",
      " #   Column                  Non-Null Count  Dtype  \n",
      "---  ------                  --------------  -----  \n",
      " 0   state                   3333 non-null   object \n",
      " 1   account length          3333 non-null   int64  \n",
      " 2   area code               3333 non-null   int64  \n",
      " 3   phone number            3333 non-null   object \n",
      " 4   international plan      3333 non-null   object \n",
      " 5   voice mail plan         3333 non-null   object \n",
      " 6   number vmail messages   3333 non-null   int64  \n",
      " 7   total day minutes       3333 non-null   float64\n",
      " 8   total day calls         3333 non-null   int64  \n",
      " 9   total day charge        3333 non-null   float64\n",
      " 10  total eve minutes       3333 non-null   float64\n",
      " 11  total eve calls         3333 non-null   int64  \n",
      " 12  total eve charge        3333 non-null   float64\n",
      " 13  total night minutes     3333 non-null   float64\n",
      " 14  total night calls       3333 non-null   int64  \n",
      " 15  total night charge      3333 non-null   float64\n",
      " 16  total intl minutes      3333 non-null   float64\n",
      " 17  total intl calls        3333 non-null   int64  \n",
      " 18  total intl charge       3333 non-null   float64\n",
      " 19  customer service calls  3333 non-null   int64  \n",
      " 20  churn                   3333 non-null   bool   \n",
      "dtypes: bool(1), float64(8), int64(8), object(4)\n",
      "memory usage: 524.2+ KB\n"
     ]
    }
   ],
   "source": [
    "df.info()"
   ]
  },
  {
   "cell_type": "markdown",
   "metadata": {},
   "source": [
    "We see that the data has 21 columns and 3333 rows, none of which are null."
   ]
  },
  {
   "cell_type": "markdown",
   "metadata": {},
   "source": [
    "### DATA PREPARATION"
   ]
  },
  {
   "cell_type": "markdown",
   "metadata": {},
   "source": [
    "To avoid the risk of data leakage, we first split our data into train and test sets. We shall then prep our train set and use it to train our models. Later when we have our final model, we'll apply the same transformations to our test set."
   ]
  },
  {
   "cell_type": "code",
   "execution_count": 4,
   "metadata": {},
   "outputs": [],
   "source": [
    "from sklearn.model_selection import train_test_split\n",
    "\n",
    "y = df[\"churn\"]\n",
    "X = df.drop(columns=[\"churn\"], axis=1)\n",
    "\n",
    "seed = 2024\n",
    "X_train, X_test, y_train, y_test = train_test_split(X, y, test_size=0.3, random_state=seed)"
   ]
  },
  {
   "cell_type": "markdown",
   "metadata": {},
   "source": [
    "Next we convert ```y_train``` to ```int``` values."
   ]
  },
  {
   "cell_type": "code",
   "execution_count": 5,
   "metadata": {},
   "outputs": [
    {
     "data": {
      "text/plain": [
       "False    1986\n",
       "True      347\n",
       "Name: churn, dtype: int64"
      ]
     },
     "execution_count": 5,
     "metadata": {},
     "output_type": "execute_result"
    }
   ],
   "source": [
    "y_train.value_counts()"
   ]
  },
  {
   "cell_type": "code",
   "execution_count": 6,
   "metadata": {},
   "outputs": [],
   "source": [
    "y_train = y_train.astype(int)"
   ]
  },
  {
   "cell_type": "code",
   "execution_count": 7,
   "metadata": {},
   "outputs": [
    {
     "data": {
      "text/plain": [
       "0    1986\n",
       "1     347\n",
       "Name: churn, dtype: int64"
      ]
     },
     "execution_count": 7,
     "metadata": {},
     "output_type": "execute_result"
    }
   ],
   "source": [
    "y_train.value_counts()"
   ]
  },
  {
   "cell_type": "markdown",
   "metadata": {},
   "source": [
    "Separating continous and categorical variables in ```X_train```"
   ]
  },
  {
   "cell_type": "code",
   "execution_count": 8,
   "metadata": {},
   "outputs": [],
   "source": [
    "X_train_cat = [\"international plan\", \"voice mail plan\"]\n",
    "X_train_cont = df.columns[4:-1].difference(X_train_cat)"
   ]
  },
  {
   "cell_type": "markdown",
   "metadata": {},
   "source": [
    "We have chosen to drop the columns ``` state```, ```account length```, ```area code```, and ```phone number``` as we presume they would not have a major impact in determining our target."
   ]
  },
  {
   "cell_type": "markdown",
   "metadata": {},
   "source": [
    "Transforming categorical variables."
   ]
  },
  {
   "cell_type": "code",
   "execution_count": 9,
   "metadata": {},
   "outputs": [
    {
     "data": {
      "text/html": [
       "<div>\n",
       "<style scoped>\n",
       "    .dataframe tbody tr th:only-of-type {\n",
       "        vertical-align: middle;\n",
       "    }\n",
       "\n",
       "    .dataframe tbody tr th {\n",
       "        vertical-align: top;\n",
       "    }\n",
       "\n",
       "    .dataframe thead th {\n",
       "        text-align: right;\n",
       "    }\n",
       "</style>\n",
       "<table border=\"1\" class=\"dataframe\">\n",
       "  <thead>\n",
       "    <tr style=\"text-align: right;\">\n",
       "      <th></th>\n",
       "      <th>international plan_yes</th>\n",
       "      <th>voice mail plan_yes</th>\n",
       "    </tr>\n",
       "  </thead>\n",
       "  <tbody>\n",
       "    <tr>\n",
       "      <th>2403</th>\n",
       "      <td>0</td>\n",
       "      <td>0</td>\n",
       "    </tr>\n",
       "    <tr>\n",
       "      <th>87</th>\n",
       "      <td>0</td>\n",
       "      <td>0</td>\n",
       "    </tr>\n",
       "    <tr>\n",
       "      <th>3180</th>\n",
       "      <td>1</td>\n",
       "      <td>0</td>\n",
       "    </tr>\n",
       "    <tr>\n",
       "      <th>3266</th>\n",
       "      <td>0</td>\n",
       "      <td>1</td>\n",
       "    </tr>\n",
       "    <tr>\n",
       "      <th>3055</th>\n",
       "      <td>0</td>\n",
       "      <td>0</td>\n",
       "    </tr>\n",
       "  </tbody>\n",
       "</table>\n",
       "</div>"
      ],
      "text/plain": [
       "      international plan_yes  voice mail plan_yes\n",
       "2403                       0                    0\n",
       "87                         0                    0\n",
       "3180                       1                    0\n",
       "3266                       0                    1\n",
       "3055                       0                    0"
      ]
     },
     "execution_count": 9,
     "metadata": {},
     "output_type": "execute_result"
    }
   ],
   "source": [
    "X_train_cat_ohe = pd.get_dummies(X_train[X_train_cat], prefix=X_train_cat, drop_first=True)\n",
    "X_train_cat_ohe.head()"
   ]
  },
  {
   "cell_type": "markdown",
   "metadata": {},
   "source": [
    "Let's check for strong correlations in continuous variables."
   ]
  },
  {
   "cell_type": "code",
   "execution_count": 10,
   "metadata": {},
   "outputs": [
    {
     "data": {
      "text/html": [
       "<div>\n",
       "<style scoped>\n",
       "    .dataframe tbody tr th:only-of-type {\n",
       "        vertical-align: middle;\n",
       "    }\n",
       "\n",
       "    .dataframe tbody tr th {\n",
       "        vertical-align: top;\n",
       "    }\n",
       "\n",
       "    .dataframe thead th {\n",
       "        text-align: right;\n",
       "    }\n",
       "</style>\n",
       "<table border=\"1\" class=\"dataframe\">\n",
       "  <thead>\n",
       "    <tr style=\"text-align: right;\">\n",
       "      <th></th>\n",
       "      <th>customer service calls</th>\n",
       "      <th>number vmail messages</th>\n",
       "      <th>total day calls</th>\n",
       "      <th>total day charge</th>\n",
       "      <th>total day minutes</th>\n",
       "      <th>total eve calls</th>\n",
       "      <th>total eve charge</th>\n",
       "      <th>total eve minutes</th>\n",
       "      <th>total intl calls</th>\n",
       "      <th>total intl charge</th>\n",
       "      <th>total intl minutes</th>\n",
       "      <th>total night calls</th>\n",
       "      <th>total night charge</th>\n",
       "      <th>total night minutes</th>\n",
       "    </tr>\n",
       "  </thead>\n",
       "  <tbody>\n",
       "    <tr>\n",
       "      <th>2403</th>\n",
       "      <td>2</td>\n",
       "      <td>0</td>\n",
       "      <td>109</td>\n",
       "      <td>15.62</td>\n",
       "      <td>91.9</td>\n",
       "      <td>111</td>\n",
       "      <td>16.86</td>\n",
       "      <td>198.4</td>\n",
       "      <td>7</td>\n",
       "      <td>3.51</td>\n",
       "      <td>13.0</td>\n",
       "      <td>125</td>\n",
       "      <td>7.73</td>\n",
       "      <td>171.7</td>\n",
       "    </tr>\n",
       "    <tr>\n",
       "      <th>87</th>\n",
       "      <td>1</td>\n",
       "      <td>0</td>\n",
       "      <td>118</td>\n",
       "      <td>36.43</td>\n",
       "      <td>214.3</td>\n",
       "      <td>76</td>\n",
       "      <td>17.72</td>\n",
       "      <td>208.5</td>\n",
       "      <td>2</td>\n",
       "      <td>3.24</td>\n",
       "      <td>12.0</td>\n",
       "      <td>98</td>\n",
       "      <td>8.21</td>\n",
       "      <td>182.4</td>\n",
       "    </tr>\n",
       "    <tr>\n",
       "      <th>3180</th>\n",
       "      <td>1</td>\n",
       "      <td>0</td>\n",
       "      <td>115</td>\n",
       "      <td>25.81</td>\n",
       "      <td>151.8</td>\n",
       "      <td>116</td>\n",
       "      <td>8.81</td>\n",
       "      <td>103.6</td>\n",
       "      <td>4</td>\n",
       "      <td>3.29</td>\n",
       "      <td>12.2</td>\n",
       "      <td>86</td>\n",
       "      <td>7.03</td>\n",
       "      <td>156.3</td>\n",
       "    </tr>\n",
       "    <tr>\n",
       "      <th>3266</th>\n",
       "      <td>3</td>\n",
       "      <td>33</td>\n",
       "      <td>139</td>\n",
       "      <td>26.38</td>\n",
       "      <td>155.2</td>\n",
       "      <td>79</td>\n",
       "      <td>22.81</td>\n",
       "      <td>268.3</td>\n",
       "      <td>4</td>\n",
       "      <td>2.62</td>\n",
       "      <td>9.7</td>\n",
       "      <td>71</td>\n",
       "      <td>8.39</td>\n",
       "      <td>186.4</td>\n",
       "    </tr>\n",
       "    <tr>\n",
       "      <th>3055</th>\n",
       "      <td>2</td>\n",
       "      <td>0</td>\n",
       "      <td>80</td>\n",
       "      <td>29.82</td>\n",
       "      <td>175.4</td>\n",
       "      <td>127</td>\n",
       "      <td>16.78</td>\n",
       "      <td>197.4</td>\n",
       "      <td>2</td>\n",
       "      <td>2.62</td>\n",
       "      <td>9.7</td>\n",
       "      <td>102</td>\n",
       "      <td>8.47</td>\n",
       "      <td>188.2</td>\n",
       "    </tr>\n",
       "  </tbody>\n",
       "</table>\n",
       "</div>"
      ],
      "text/plain": [
       "      customer service calls  number vmail messages  total day calls  \\\n",
       "2403                       2                      0              109   \n",
       "87                         1                      0              118   \n",
       "3180                       1                      0              115   \n",
       "3266                       3                     33              139   \n",
       "3055                       2                      0               80   \n",
       "\n",
       "      total day charge  total day minutes  total eve calls  total eve charge  \\\n",
       "2403             15.62               91.9              111             16.86   \n",
       "87               36.43              214.3               76             17.72   \n",
       "3180             25.81              151.8              116              8.81   \n",
       "3266             26.38              155.2               79             22.81   \n",
       "3055             29.82              175.4              127             16.78   \n",
       "\n",
       "      total eve minutes  total intl calls  total intl charge  \\\n",
       "2403              198.4                 7               3.51   \n",
       "87                208.5                 2               3.24   \n",
       "3180              103.6                 4               3.29   \n",
       "3266              268.3                 4               2.62   \n",
       "3055              197.4                 2               2.62   \n",
       "\n",
       "      total intl minutes  total night calls  total night charge  \\\n",
       "2403                13.0                125                7.73   \n",
       "87                  12.0                 98                8.21   \n",
       "3180                12.2                 86                7.03   \n",
       "3266                 9.7                 71                8.39   \n",
       "3055                 9.7                102                8.47   \n",
       "\n",
       "      total night minutes  \n",
       "2403                171.7  \n",
       "87                  182.4  \n",
       "3180                156.3  \n",
       "3266                186.4  \n",
       "3055                188.2  "
      ]
     },
     "execution_count": 10,
     "metadata": {},
     "output_type": "execute_result"
    }
   ],
   "source": [
    "X_train_cont_df = X_train.loc[:, X_train_cont]\n",
    "X_train_cont_df.head()"
   ]
  },
  {
   "cell_type": "code",
   "execution_count": 11,
   "metadata": {},
   "outputs": [
    {
     "data": {
      "text/html": [
       "<div>\n",
       "<style scoped>\n",
       "    .dataframe tbody tr th:only-of-type {\n",
       "        vertical-align: middle;\n",
       "    }\n",
       "\n",
       "    .dataframe tbody tr th {\n",
       "        vertical-align: top;\n",
       "    }\n",
       "\n",
       "    .dataframe thead th {\n",
       "        text-align: right;\n",
       "    }\n",
       "</style>\n",
       "<table border=\"1\" class=\"dataframe\">\n",
       "  <thead>\n",
       "    <tr style=\"text-align: right;\">\n",
       "      <th></th>\n",
       "      <th>customer service calls</th>\n",
       "      <th>number vmail messages</th>\n",
       "      <th>total day calls</th>\n",
       "      <th>total day charge</th>\n",
       "      <th>total day minutes</th>\n",
       "      <th>total eve calls</th>\n",
       "      <th>total eve charge</th>\n",
       "      <th>total eve minutes</th>\n",
       "      <th>total intl calls</th>\n",
       "      <th>total intl charge</th>\n",
       "      <th>total intl minutes</th>\n",
       "      <th>total night calls</th>\n",
       "      <th>total night charge</th>\n",
       "      <th>total night minutes</th>\n",
       "    </tr>\n",
       "  </thead>\n",
       "  <tbody>\n",
       "    <tr>\n",
       "      <th>customer service calls</th>\n",
       "      <td>True</td>\n",
       "      <td>False</td>\n",
       "      <td>False</td>\n",
       "      <td>False</td>\n",
       "      <td>False</td>\n",
       "      <td>False</td>\n",
       "      <td>False</td>\n",
       "      <td>False</td>\n",
       "      <td>False</td>\n",
       "      <td>False</td>\n",
       "      <td>False</td>\n",
       "      <td>False</td>\n",
       "      <td>False</td>\n",
       "      <td>False</td>\n",
       "    </tr>\n",
       "    <tr>\n",
       "      <th>number vmail messages</th>\n",
       "      <td>False</td>\n",
       "      <td>True</td>\n",
       "      <td>False</td>\n",
       "      <td>False</td>\n",
       "      <td>False</td>\n",
       "      <td>False</td>\n",
       "      <td>False</td>\n",
       "      <td>False</td>\n",
       "      <td>False</td>\n",
       "      <td>False</td>\n",
       "      <td>False</td>\n",
       "      <td>False</td>\n",
       "      <td>False</td>\n",
       "      <td>False</td>\n",
       "    </tr>\n",
       "    <tr>\n",
       "      <th>total day calls</th>\n",
       "      <td>False</td>\n",
       "      <td>False</td>\n",
       "      <td>True</td>\n",
       "      <td>False</td>\n",
       "      <td>False</td>\n",
       "      <td>False</td>\n",
       "      <td>False</td>\n",
       "      <td>False</td>\n",
       "      <td>False</td>\n",
       "      <td>False</td>\n",
       "      <td>False</td>\n",
       "      <td>False</td>\n",
       "      <td>False</td>\n",
       "      <td>False</td>\n",
       "    </tr>\n",
       "    <tr>\n",
       "      <th>total day charge</th>\n",
       "      <td>False</td>\n",
       "      <td>False</td>\n",
       "      <td>False</td>\n",
       "      <td>True</td>\n",
       "      <td>True</td>\n",
       "      <td>False</td>\n",
       "      <td>False</td>\n",
       "      <td>False</td>\n",
       "      <td>False</td>\n",
       "      <td>False</td>\n",
       "      <td>False</td>\n",
       "      <td>False</td>\n",
       "      <td>False</td>\n",
       "      <td>False</td>\n",
       "    </tr>\n",
       "    <tr>\n",
       "      <th>total day minutes</th>\n",
       "      <td>False</td>\n",
       "      <td>False</td>\n",
       "      <td>False</td>\n",
       "      <td>True</td>\n",
       "      <td>True</td>\n",
       "      <td>False</td>\n",
       "      <td>False</td>\n",
       "      <td>False</td>\n",
       "      <td>False</td>\n",
       "      <td>False</td>\n",
       "      <td>False</td>\n",
       "      <td>False</td>\n",
       "      <td>False</td>\n",
       "      <td>False</td>\n",
       "    </tr>\n",
       "    <tr>\n",
       "      <th>total eve calls</th>\n",
       "      <td>False</td>\n",
       "      <td>False</td>\n",
       "      <td>False</td>\n",
       "      <td>False</td>\n",
       "      <td>False</td>\n",
       "      <td>True</td>\n",
       "      <td>False</td>\n",
       "      <td>False</td>\n",
       "      <td>False</td>\n",
       "      <td>False</td>\n",
       "      <td>False</td>\n",
       "      <td>False</td>\n",
       "      <td>False</td>\n",
       "      <td>False</td>\n",
       "    </tr>\n",
       "    <tr>\n",
       "      <th>total eve charge</th>\n",
       "      <td>False</td>\n",
       "      <td>False</td>\n",
       "      <td>False</td>\n",
       "      <td>False</td>\n",
       "      <td>False</td>\n",
       "      <td>False</td>\n",
       "      <td>True</td>\n",
       "      <td>True</td>\n",
       "      <td>False</td>\n",
       "      <td>False</td>\n",
       "      <td>False</td>\n",
       "      <td>False</td>\n",
       "      <td>False</td>\n",
       "      <td>False</td>\n",
       "    </tr>\n",
       "    <tr>\n",
       "      <th>total eve minutes</th>\n",
       "      <td>False</td>\n",
       "      <td>False</td>\n",
       "      <td>False</td>\n",
       "      <td>False</td>\n",
       "      <td>False</td>\n",
       "      <td>False</td>\n",
       "      <td>True</td>\n",
       "      <td>True</td>\n",
       "      <td>False</td>\n",
       "      <td>False</td>\n",
       "      <td>False</td>\n",
       "      <td>False</td>\n",
       "      <td>False</td>\n",
       "      <td>False</td>\n",
       "    </tr>\n",
       "    <tr>\n",
       "      <th>total intl calls</th>\n",
       "      <td>False</td>\n",
       "      <td>False</td>\n",
       "      <td>False</td>\n",
       "      <td>False</td>\n",
       "      <td>False</td>\n",
       "      <td>False</td>\n",
       "      <td>False</td>\n",
       "      <td>False</td>\n",
       "      <td>True</td>\n",
       "      <td>False</td>\n",
       "      <td>False</td>\n",
       "      <td>False</td>\n",
       "      <td>False</td>\n",
       "      <td>False</td>\n",
       "    </tr>\n",
       "    <tr>\n",
       "      <th>total intl charge</th>\n",
       "      <td>False</td>\n",
       "      <td>False</td>\n",
       "      <td>False</td>\n",
       "      <td>False</td>\n",
       "      <td>False</td>\n",
       "      <td>False</td>\n",
       "      <td>False</td>\n",
       "      <td>False</td>\n",
       "      <td>False</td>\n",
       "      <td>True</td>\n",
       "      <td>True</td>\n",
       "      <td>False</td>\n",
       "      <td>False</td>\n",
       "      <td>False</td>\n",
       "    </tr>\n",
       "    <tr>\n",
       "      <th>total intl minutes</th>\n",
       "      <td>False</td>\n",
       "      <td>False</td>\n",
       "      <td>False</td>\n",
       "      <td>False</td>\n",
       "      <td>False</td>\n",
       "      <td>False</td>\n",
       "      <td>False</td>\n",
       "      <td>False</td>\n",
       "      <td>False</td>\n",
       "      <td>True</td>\n",
       "      <td>True</td>\n",
       "      <td>False</td>\n",
       "      <td>False</td>\n",
       "      <td>False</td>\n",
       "    </tr>\n",
       "    <tr>\n",
       "      <th>total night calls</th>\n",
       "      <td>False</td>\n",
       "      <td>False</td>\n",
       "      <td>False</td>\n",
       "      <td>False</td>\n",
       "      <td>False</td>\n",
       "      <td>False</td>\n",
       "      <td>False</td>\n",
       "      <td>False</td>\n",
       "      <td>False</td>\n",
       "      <td>False</td>\n",
       "      <td>False</td>\n",
       "      <td>True</td>\n",
       "      <td>False</td>\n",
       "      <td>False</td>\n",
       "    </tr>\n",
       "    <tr>\n",
       "      <th>total night charge</th>\n",
       "      <td>False</td>\n",
       "      <td>False</td>\n",
       "      <td>False</td>\n",
       "      <td>False</td>\n",
       "      <td>False</td>\n",
       "      <td>False</td>\n",
       "      <td>False</td>\n",
       "      <td>False</td>\n",
       "      <td>False</td>\n",
       "      <td>False</td>\n",
       "      <td>False</td>\n",
       "      <td>False</td>\n",
       "      <td>True</td>\n",
       "      <td>True</td>\n",
       "    </tr>\n",
       "    <tr>\n",
       "      <th>total night minutes</th>\n",
       "      <td>False</td>\n",
       "      <td>False</td>\n",
       "      <td>False</td>\n",
       "      <td>False</td>\n",
       "      <td>False</td>\n",
       "      <td>False</td>\n",
       "      <td>False</td>\n",
       "      <td>False</td>\n",
       "      <td>False</td>\n",
       "      <td>False</td>\n",
       "      <td>False</td>\n",
       "      <td>False</td>\n",
       "      <td>True</td>\n",
       "      <td>True</td>\n",
       "    </tr>\n",
       "  </tbody>\n",
       "</table>\n",
       "</div>"
      ],
      "text/plain": [
       "                        customer service calls  number vmail messages  \\\n",
       "customer service calls                    True                  False   \n",
       "number vmail messages                    False                   True   \n",
       "total day calls                          False                  False   \n",
       "total day charge                         False                  False   \n",
       "total day minutes                        False                  False   \n",
       "total eve calls                          False                  False   \n",
       "total eve charge                         False                  False   \n",
       "total eve minutes                        False                  False   \n",
       "total intl calls                         False                  False   \n",
       "total intl charge                        False                  False   \n",
       "total intl minutes                       False                  False   \n",
       "total night calls                        False                  False   \n",
       "total night charge                       False                  False   \n",
       "total night minutes                      False                  False   \n",
       "\n",
       "                        total day calls  total day charge  total day minutes  \\\n",
       "customer service calls            False             False              False   \n",
       "number vmail messages             False             False              False   \n",
       "total day calls                    True             False              False   \n",
       "total day charge                  False              True               True   \n",
       "total day minutes                 False              True               True   \n",
       "total eve calls                   False             False              False   \n",
       "total eve charge                  False             False              False   \n",
       "total eve minutes                 False             False              False   \n",
       "total intl calls                  False             False              False   \n",
       "total intl charge                 False             False              False   \n",
       "total intl minutes                False             False              False   \n",
       "total night calls                 False             False              False   \n",
       "total night charge                False             False              False   \n",
       "total night minutes               False             False              False   \n",
       "\n",
       "                        total eve calls  total eve charge  total eve minutes  \\\n",
       "customer service calls            False             False              False   \n",
       "number vmail messages             False             False              False   \n",
       "total day calls                   False             False              False   \n",
       "total day charge                  False             False              False   \n",
       "total day minutes                 False             False              False   \n",
       "total eve calls                    True             False              False   \n",
       "total eve charge                  False              True               True   \n",
       "total eve minutes                 False              True               True   \n",
       "total intl calls                  False             False              False   \n",
       "total intl charge                 False             False              False   \n",
       "total intl minutes                False             False              False   \n",
       "total night calls                 False             False              False   \n",
       "total night charge                False             False              False   \n",
       "total night minutes               False             False              False   \n",
       "\n",
       "                        total intl calls  total intl charge  \\\n",
       "customer service calls             False              False   \n",
       "number vmail messages              False              False   \n",
       "total day calls                    False              False   \n",
       "total day charge                   False              False   \n",
       "total day minutes                  False              False   \n",
       "total eve calls                    False              False   \n",
       "total eve charge                   False              False   \n",
       "total eve minutes                  False              False   \n",
       "total intl calls                    True              False   \n",
       "total intl charge                  False               True   \n",
       "total intl minutes                 False               True   \n",
       "total night calls                  False              False   \n",
       "total night charge                 False              False   \n",
       "total night minutes                False              False   \n",
       "\n",
       "                        total intl minutes  total night calls  \\\n",
       "customer service calls               False              False   \n",
       "number vmail messages                False              False   \n",
       "total day calls                      False              False   \n",
       "total day charge                     False              False   \n",
       "total day minutes                    False              False   \n",
       "total eve calls                      False              False   \n",
       "total eve charge                     False              False   \n",
       "total eve minutes                    False              False   \n",
       "total intl calls                     False              False   \n",
       "total intl charge                     True              False   \n",
       "total intl minutes                    True              False   \n",
       "total night calls                    False               True   \n",
       "total night charge                   False              False   \n",
       "total night minutes                  False              False   \n",
       "\n",
       "                        total night charge  total night minutes  \n",
       "customer service calls               False                False  \n",
       "number vmail messages                False                False  \n",
       "total day calls                      False                False  \n",
       "total day charge                     False                False  \n",
       "total day minutes                    False                False  \n",
       "total eve calls                      False                False  \n",
       "total eve charge                     False                False  \n",
       "total eve minutes                    False                False  \n",
       "total intl calls                     False                False  \n",
       "total intl charge                    False                False  \n",
       "total intl minutes                   False                False  \n",
       "total night calls                    False                False  \n",
       "total night charge                    True                 True  \n",
       "total night minutes                   True                 True  "
      ]
     },
     "execution_count": 11,
     "metadata": {},
     "output_type": "execute_result"
    }
   ],
   "source": [
    "abs(X_train_cont_df.corr()) > 0.75"
   ]
  },
  {
   "cell_type": "code",
   "execution_count": 12,
   "metadata": {},
   "outputs": [
    {
     "data": {
      "text/html": [
       "<div>\n",
       "<style scoped>\n",
       "    .dataframe tbody tr th:only-of-type {\n",
       "        vertical-align: middle;\n",
       "    }\n",
       "\n",
       "    .dataframe tbody tr th {\n",
       "        vertical-align: top;\n",
       "    }\n",
       "\n",
       "    .dataframe thead th {\n",
       "        text-align: right;\n",
       "    }\n",
       "</style>\n",
       "<table border=\"1\" class=\"dataframe\">\n",
       "  <thead>\n",
       "    <tr style=\"text-align: right;\">\n",
       "      <th></th>\n",
       "      <th>cc</th>\n",
       "    </tr>\n",
       "    <tr>\n",
       "      <th>pairs</th>\n",
       "      <th></th>\n",
       "    </tr>\n",
       "  </thead>\n",
       "  <tbody>\n",
       "    <tr>\n",
       "      <th>(total day charge, total day minutes)</th>\n",
       "      <td>1.000000</td>\n",
       "    </tr>\n",
       "    <tr>\n",
       "      <th>(total eve minutes, total eve charge)</th>\n",
       "      <td>1.000000</td>\n",
       "    </tr>\n",
       "    <tr>\n",
       "      <th>(total night minutes, total night charge)</th>\n",
       "      <td>0.999999</td>\n",
       "    </tr>\n",
       "    <tr>\n",
       "      <th>(total intl minutes, total intl charge)</th>\n",
       "      <td>0.999993</td>\n",
       "    </tr>\n",
       "  </tbody>\n",
       "</table>\n",
       "</div>"
      ],
      "text/plain": [
       "                                                 cc\n",
       "pairs                                              \n",
       "(total day charge, total day minutes)      1.000000\n",
       "(total eve minutes, total eve charge)      1.000000\n",
       "(total night minutes, total night charge)  0.999999\n",
       "(total intl minutes, total intl charge)    0.999993"
      ]
     },
     "execution_count": 12,
     "metadata": {},
     "output_type": "execute_result"
    }
   ],
   "source": [
    "df_corr = X_train_cont_df.corr().abs().stack().reset_index().sort_values(0, ascending=False)\n",
    "\n",
    "df_corr['pairs'] = list(zip(df_corr.level_0, df_corr.level_1))\n",
    "\n",
    "df_corr.set_index(['pairs'], inplace = True)\n",
    "\n",
    "df_corr.drop(columns=['level_1', 'level_0'], inplace = True)\n",
    "\n",
    "# cc for correlation coefficient\n",
    "df_corr.columns = ['cc']\n",
    "\n",
    "df_corr.drop_duplicates(inplace=True)\n",
    "\n",
    "df_corr[(df_corr.cc>.75) & (df_corr.cc<1)]"
   ]
  },
  {
   "cell_type": "markdown",
   "metadata": {},
   "source": [
    "We choose to drop the ```charge``` features as they can be seen to be very strongly correlated with the ```minutes``` features."
   ]
  },
  {
   "cell_type": "code",
   "execution_count": 13,
   "metadata": {},
   "outputs": [
    {
     "data": {
      "text/plain": [
       "Index(['customer service calls', 'number vmail messages', 'total day calls',\n",
       "       'total day minutes', 'total eve calls', 'total eve minutes',\n",
       "       'total intl calls', 'total intl minutes', 'total night calls',\n",
       "       'total night minutes'],\n",
       "      dtype='object')"
      ]
     },
     "execution_count": 13,
     "metadata": {},
     "output_type": "execute_result"
    }
   ],
   "source": [
    "to_drop = ['total day charge', 'total eve charge', 'total night charge', 'total intl charge']\n",
    "X_train_cont = df.columns[4:-1].difference(X_train_cat + to_drop)\n",
    "X_train_cont"
   ]
  },
  {
   "cell_type": "markdown",
   "metadata": {},
   "source": [
    "We then scale continious variables."
   ]
  },
  {
   "cell_type": "code",
   "execution_count": 14,
   "metadata": {},
   "outputs": [
    {
     "data": {
      "text/html": [
       "<div>\n",
       "<style scoped>\n",
       "    .dataframe tbody tr th:only-of-type {\n",
       "        vertical-align: middle;\n",
       "    }\n",
       "\n",
       "    .dataframe tbody tr th {\n",
       "        vertical-align: top;\n",
       "    }\n",
       "\n",
       "    .dataframe thead th {\n",
       "        text-align: right;\n",
       "    }\n",
       "</style>\n",
       "<table border=\"1\" class=\"dataframe\">\n",
       "  <thead>\n",
       "    <tr style=\"text-align: right;\">\n",
       "      <th></th>\n",
       "      <th>customer service calls</th>\n",
       "      <th>number vmail messages</th>\n",
       "      <th>total day calls</th>\n",
       "      <th>total day minutes</th>\n",
       "      <th>total eve calls</th>\n",
       "      <th>total eve minutes</th>\n",
       "      <th>total intl calls</th>\n",
       "      <th>total intl minutes</th>\n",
       "      <th>total night calls</th>\n",
       "      <th>total night minutes</th>\n",
       "    </tr>\n",
       "  </thead>\n",
       "  <tbody>\n",
       "    <tr>\n",
       "      <th>2403</th>\n",
       "      <td>2</td>\n",
       "      <td>0</td>\n",
       "      <td>109</td>\n",
       "      <td>91.9</td>\n",
       "      <td>111</td>\n",
       "      <td>198.4</td>\n",
       "      <td>7</td>\n",
       "      <td>13.0</td>\n",
       "      <td>125</td>\n",
       "      <td>171.7</td>\n",
       "    </tr>\n",
       "    <tr>\n",
       "      <th>87</th>\n",
       "      <td>1</td>\n",
       "      <td>0</td>\n",
       "      <td>118</td>\n",
       "      <td>214.3</td>\n",
       "      <td>76</td>\n",
       "      <td>208.5</td>\n",
       "      <td>2</td>\n",
       "      <td>12.0</td>\n",
       "      <td>98</td>\n",
       "      <td>182.4</td>\n",
       "    </tr>\n",
       "    <tr>\n",
       "      <th>3180</th>\n",
       "      <td>1</td>\n",
       "      <td>0</td>\n",
       "      <td>115</td>\n",
       "      <td>151.8</td>\n",
       "      <td>116</td>\n",
       "      <td>103.6</td>\n",
       "      <td>4</td>\n",
       "      <td>12.2</td>\n",
       "      <td>86</td>\n",
       "      <td>156.3</td>\n",
       "    </tr>\n",
       "    <tr>\n",
       "      <th>3266</th>\n",
       "      <td>3</td>\n",
       "      <td>33</td>\n",
       "      <td>139</td>\n",
       "      <td>155.2</td>\n",
       "      <td>79</td>\n",
       "      <td>268.3</td>\n",
       "      <td>4</td>\n",
       "      <td>9.7</td>\n",
       "      <td>71</td>\n",
       "      <td>186.4</td>\n",
       "    </tr>\n",
       "    <tr>\n",
       "      <th>3055</th>\n",
       "      <td>2</td>\n",
       "      <td>0</td>\n",
       "      <td>80</td>\n",
       "      <td>175.4</td>\n",
       "      <td>127</td>\n",
       "      <td>197.4</td>\n",
       "      <td>2</td>\n",
       "      <td>9.7</td>\n",
       "      <td>102</td>\n",
       "      <td>188.2</td>\n",
       "    </tr>\n",
       "  </tbody>\n",
       "</table>\n",
       "</div>"
      ],
      "text/plain": [
       "      customer service calls  number vmail messages  total day calls  \\\n",
       "2403                       2                      0              109   \n",
       "87                         1                      0              118   \n",
       "3180                       1                      0              115   \n",
       "3266                       3                     33              139   \n",
       "3055                       2                      0               80   \n",
       "\n",
       "      total day minutes  total eve calls  total eve minutes  total intl calls  \\\n",
       "2403               91.9              111              198.4                 7   \n",
       "87                214.3               76              208.5                 2   \n",
       "3180              151.8              116              103.6                 4   \n",
       "3266              155.2               79              268.3                 4   \n",
       "3055              175.4              127              197.4                 2   \n",
       "\n",
       "      total intl minutes  total night calls  total night minutes  \n",
       "2403                13.0                125                171.7  \n",
       "87                  12.0                 98                182.4  \n",
       "3180                12.2                 86                156.3  \n",
       "3266                 9.7                 71                186.4  \n",
       "3055                 9.7                102                188.2  "
      ]
     },
     "execution_count": 14,
     "metadata": {},
     "output_type": "execute_result"
    }
   ],
   "source": [
    "X_train_cont_df = X_train.loc[:, X_train_cont]\n",
    "X_train_cont_df.head()"
   ]
  },
  {
   "cell_type": "code",
   "execution_count": 15,
   "metadata": {},
   "outputs": [
    {
     "data": {
      "text/plain": [
       "array([[ 0.34443674, -0.59004295,  0.43843642, ...,  0.9741809 ,\n",
       "         1.25617566, -0.57860761],\n",
       "       [-0.42379549, -0.59004295,  0.88816037, ...,  0.62048184,\n",
       "        -0.11402575, -0.36640043],\n",
       "       [-0.42379549, -0.59004295,  0.73825239, ...,  0.69122165,\n",
       "        -0.72300415, -0.8840273 ],\n",
       "       ...,\n",
       "       [ 1.11266898, -0.59004295,  0.63831373, ..., -0.47598524,\n",
       "         0.69794546, -0.14427702],\n",
       "       [-0.42379549, -0.59004295,  0.83819104, ..., -0.08691628,\n",
       "         1.05318286, -0.80271427],\n",
       "       [ 0.34443674, -0.59004295,  1.08803769, ..., -0.47598524,\n",
       "        -0.67225595, -0.61827251]])"
      ]
     },
     "execution_count": 15,
     "metadata": {},
     "output_type": "execute_result"
    }
   ],
   "source": [
    "from sklearn.preprocessing import StandardScaler\n",
    "\n",
    "scaler = StandardScaler()\n",
    "scaler.fit(X_train_cont_df)\n",
    "X_train_cont_scaled = scaler.transform(X_train_cont_df)\n",
    "X_train_cont_scaled"
   ]
  },
  {
   "cell_type": "code",
   "execution_count": 16,
   "metadata": {},
   "outputs": [],
   "source": [
    "X_train_cont_scaled_df = pd.DataFrame(\n",
    "    X_train_cont_scaled, index=X_train_cont_df.index, columns=X_train_cont_df.columns)"
   ]
  },
  {
   "cell_type": "markdown",
   "metadata": {},
   "source": [
    "Combining the preprocessed continuous and categorical data into one data frame."
   ]
  },
  {
   "cell_type": "code",
   "execution_count": 17,
   "metadata": {},
   "outputs": [
    {
     "data": {
      "text/html": [
       "<div>\n",
       "<style scoped>\n",
       "    .dataframe tbody tr th:only-of-type {\n",
       "        vertical-align: middle;\n",
       "    }\n",
       "\n",
       "    .dataframe tbody tr th {\n",
       "        vertical-align: top;\n",
       "    }\n",
       "\n",
       "    .dataframe thead th {\n",
       "        text-align: right;\n",
       "    }\n",
       "</style>\n",
       "<table border=\"1\" class=\"dataframe\">\n",
       "  <thead>\n",
       "    <tr style=\"text-align: right;\">\n",
       "      <th></th>\n",
       "      <th>international plan_yes</th>\n",
       "      <th>voice mail plan_yes</th>\n",
       "      <th>customer service calls</th>\n",
       "      <th>number vmail messages</th>\n",
       "      <th>total day calls</th>\n",
       "      <th>total day minutes</th>\n",
       "      <th>total eve calls</th>\n",
       "      <th>total eve minutes</th>\n",
       "      <th>total intl calls</th>\n",
       "      <th>total intl minutes</th>\n",
       "      <th>total night calls</th>\n",
       "      <th>total night minutes</th>\n",
       "    </tr>\n",
       "  </thead>\n",
       "  <tbody>\n",
       "    <tr>\n",
       "      <th>2403</th>\n",
       "      <td>0</td>\n",
       "      <td>0</td>\n",
       "      <td>0.344437</td>\n",
       "      <td>-0.590043</td>\n",
       "      <td>0.438436</td>\n",
       "      <td>-1.559802</td>\n",
       "      <td>0.539219</td>\n",
       "      <td>-0.064116</td>\n",
       "      <td>1.008057</td>\n",
       "      <td>0.974181</td>\n",
       "      <td>1.256176</td>\n",
       "      <td>-0.578608</td>\n",
       "    </tr>\n",
       "    <tr>\n",
       "      <th>87</th>\n",
       "      <td>0</td>\n",
       "      <td>0</td>\n",
       "      <td>-0.423795</td>\n",
       "      <td>-0.590043</td>\n",
       "      <td>0.888160</td>\n",
       "      <td>0.636415</td>\n",
       "      <td>-1.220078</td>\n",
       "      <td>0.134515</td>\n",
       "      <td>-1.014124</td>\n",
       "      <td>0.620482</td>\n",
       "      <td>-0.114026</td>\n",
       "      <td>-0.366400</td>\n",
       "    </tr>\n",
       "    <tr>\n",
       "      <th>3180</th>\n",
       "      <td>1</td>\n",
       "      <td>0</td>\n",
       "      <td>-0.423795</td>\n",
       "      <td>-0.590043</td>\n",
       "      <td>0.738252</td>\n",
       "      <td>-0.485019</td>\n",
       "      <td>0.790547</td>\n",
       "      <td>-1.928493</td>\n",
       "      <td>-0.205252</td>\n",
       "      <td>0.691222</td>\n",
       "      <td>-0.723004</td>\n",
       "      <td>-0.884027</td>\n",
       "    </tr>\n",
       "    <tr>\n",
       "      <th>3266</th>\n",
       "      <td>0</td>\n",
       "      <td>1</td>\n",
       "      <td>1.112669</td>\n",
       "      <td>1.823838</td>\n",
       "      <td>1.937516</td>\n",
       "      <td>-0.424013</td>\n",
       "      <td>-1.069281</td>\n",
       "      <td>1.310567</td>\n",
       "      <td>-0.205252</td>\n",
       "      <td>-0.193026</td>\n",
       "      <td>-1.484227</td>\n",
       "      <td>-0.287071</td>\n",
       "    </tr>\n",
       "    <tr>\n",
       "      <th>3055</th>\n",
       "      <td>0</td>\n",
       "      <td>0</td>\n",
       "      <td>0.344437</td>\n",
       "      <td>-0.590043</td>\n",
       "      <td>-1.010674</td>\n",
       "      <td>-0.061566</td>\n",
       "      <td>1.343469</td>\n",
       "      <td>-0.083783</td>\n",
       "      <td>-1.014124</td>\n",
       "      <td>-0.193026</td>\n",
       "      <td>0.088967</td>\n",
       "      <td>-0.251372</td>\n",
       "    </tr>\n",
       "  </tbody>\n",
       "</table>\n",
       "</div>"
      ],
      "text/plain": [
       "      international plan_yes  voice mail plan_yes  customer service calls  \\\n",
       "2403                       0                    0                0.344437   \n",
       "87                         0                    0               -0.423795   \n",
       "3180                       1                    0               -0.423795   \n",
       "3266                       0                    1                1.112669   \n",
       "3055                       0                    0                0.344437   \n",
       "\n",
       "      number vmail messages  total day calls  total day minutes  \\\n",
       "2403              -0.590043         0.438436          -1.559802   \n",
       "87                -0.590043         0.888160           0.636415   \n",
       "3180              -0.590043         0.738252          -0.485019   \n",
       "3266               1.823838         1.937516          -0.424013   \n",
       "3055              -0.590043        -1.010674          -0.061566   \n",
       "\n",
       "      total eve calls  total eve minutes  total intl calls  \\\n",
       "2403         0.539219          -0.064116          1.008057   \n",
       "87          -1.220078           0.134515         -1.014124   \n",
       "3180         0.790547          -1.928493         -0.205252   \n",
       "3266        -1.069281           1.310567         -0.205252   \n",
       "3055         1.343469          -0.083783         -1.014124   \n",
       "\n",
       "      total intl minutes  total night calls  total night minutes  \n",
       "2403            0.974181           1.256176            -0.578608  \n",
       "87              0.620482          -0.114026            -0.366400  \n",
       "3180            0.691222          -0.723004            -0.884027  \n",
       "3266           -0.193026          -1.484227            -0.287071  \n",
       "3055           -0.193026           0.088967            -0.251372  "
      ]
     },
     "execution_count": 17,
     "metadata": {},
     "output_type": "execute_result"
    }
   ],
   "source": [
    "X_train_preprocessed = pd.concat([X_train_cat_ohe, X_train_cont_scaled_df], axis=1)\n",
    "X_train_preprocessed.head()"
   ]
  },
  {
   "cell_type": "code",
   "execution_count": 18,
   "metadata": {},
   "outputs": [
    {
     "name": "stdout",
     "output_type": "stream",
     "text": [
      "<class 'pandas.core.frame.DataFrame'>\n",
      "Int64Index: 2333 entries, 2403 to 2656\n",
      "Data columns (total 12 columns):\n",
      " #   Column                  Non-Null Count  Dtype  \n",
      "---  ------                  --------------  -----  \n",
      " 0   international plan_yes  2333 non-null   uint8  \n",
      " 1   voice mail plan_yes     2333 non-null   uint8  \n",
      " 2   customer service calls  2333 non-null   float64\n",
      " 3   number vmail messages   2333 non-null   float64\n",
      " 4   total day calls         2333 non-null   float64\n",
      " 5   total day minutes       2333 non-null   float64\n",
      " 6   total eve calls         2333 non-null   float64\n",
      " 7   total eve minutes       2333 non-null   float64\n",
      " 8   total intl calls        2333 non-null   float64\n",
      " 9   total intl minutes      2333 non-null   float64\n",
      " 10  total night calls       2333 non-null   float64\n",
      " 11  total night minutes     2333 non-null   float64\n",
      "dtypes: float64(10), uint8(2)\n",
      "memory usage: 205.0 KB\n"
     ]
    }
   ],
   "source": [
    "X_train_preprocessed.info()"
   ]
  },
  {
   "cell_type": "markdown",
   "metadata": {},
   "source": [
    "### MODELLING"
   ]
  },
  {
   "cell_type": "markdown",
   "metadata": {},
   "source": [
    "We begin with a vanilla Decision Tree model."
   ]
  },
  {
   "cell_type": "code",
   "execution_count": 19,
   "metadata": {},
   "outputs": [],
   "source": [
    "from sklearn.tree import DecisionTreeClassifier\n",
    "from sklearn.metrics import roc_curve, auc"
   ]
  },
  {
   "cell_type": "code",
   "execution_count": 20,
   "metadata": {},
   "outputs": [
    {
     "data": {
      "text/html": [
       "<style>#sk-container-id-1 {color: black;background-color: white;}#sk-container-id-1 pre{padding: 0;}#sk-container-id-1 div.sk-toggleable {background-color: white;}#sk-container-id-1 label.sk-toggleable__label {cursor: pointer;display: block;width: 100%;margin-bottom: 0;padding: 0.3em;box-sizing: border-box;text-align: center;}#sk-container-id-1 label.sk-toggleable__label-arrow:before {content: \"▸\";float: left;margin-right: 0.25em;color: #696969;}#sk-container-id-1 label.sk-toggleable__label-arrow:hover:before {color: black;}#sk-container-id-1 div.sk-estimator:hover label.sk-toggleable__label-arrow:before {color: black;}#sk-container-id-1 div.sk-toggleable__content {max-height: 0;max-width: 0;overflow: hidden;text-align: left;background-color: #f0f8ff;}#sk-container-id-1 div.sk-toggleable__content pre {margin: 0.2em;color: black;border-radius: 0.25em;background-color: #f0f8ff;}#sk-container-id-1 input.sk-toggleable__control:checked~div.sk-toggleable__content {max-height: 200px;max-width: 100%;overflow: auto;}#sk-container-id-1 input.sk-toggleable__control:checked~label.sk-toggleable__label-arrow:before {content: \"▾\";}#sk-container-id-1 div.sk-estimator input.sk-toggleable__control:checked~label.sk-toggleable__label {background-color: #d4ebff;}#sk-container-id-1 div.sk-label input.sk-toggleable__control:checked~label.sk-toggleable__label {background-color: #d4ebff;}#sk-container-id-1 input.sk-hidden--visually {border: 0;clip: rect(1px 1px 1px 1px);clip: rect(1px, 1px, 1px, 1px);height: 1px;margin: -1px;overflow: hidden;padding: 0;position: absolute;width: 1px;}#sk-container-id-1 div.sk-estimator {font-family: monospace;background-color: #f0f8ff;border: 1px dotted black;border-radius: 0.25em;box-sizing: border-box;margin-bottom: 0.5em;}#sk-container-id-1 div.sk-estimator:hover {background-color: #d4ebff;}#sk-container-id-1 div.sk-parallel-item::after {content: \"\";width: 100%;border-bottom: 1px solid gray;flex-grow: 1;}#sk-container-id-1 div.sk-label:hover label.sk-toggleable__label {background-color: #d4ebff;}#sk-container-id-1 div.sk-serial::before {content: \"\";position: absolute;border-left: 1px solid gray;box-sizing: border-box;top: 0;bottom: 0;left: 50%;z-index: 0;}#sk-container-id-1 div.sk-serial {display: flex;flex-direction: column;align-items: center;background-color: white;padding-right: 0.2em;padding-left: 0.2em;position: relative;}#sk-container-id-1 div.sk-item {position: relative;z-index: 1;}#sk-container-id-1 div.sk-parallel {display: flex;align-items: stretch;justify-content: center;background-color: white;position: relative;}#sk-container-id-1 div.sk-item::before, #sk-container-id-1 div.sk-parallel-item::before {content: \"\";position: absolute;border-left: 1px solid gray;box-sizing: border-box;top: 0;bottom: 0;left: 50%;z-index: -1;}#sk-container-id-1 div.sk-parallel-item {display: flex;flex-direction: column;z-index: 1;position: relative;background-color: white;}#sk-container-id-1 div.sk-parallel-item:first-child::after {align-self: flex-end;width: 50%;}#sk-container-id-1 div.sk-parallel-item:last-child::after {align-self: flex-start;width: 50%;}#sk-container-id-1 div.sk-parallel-item:only-child::after {width: 0;}#sk-container-id-1 div.sk-dashed-wrapped {border: 1px dashed gray;margin: 0 0.4em 0.5em 0.4em;box-sizing: border-box;padding-bottom: 0.4em;background-color: white;}#sk-container-id-1 div.sk-label label {font-family: monospace;font-weight: bold;display: inline-block;line-height: 1.2em;}#sk-container-id-1 div.sk-label-container {text-align: center;}#sk-container-id-1 div.sk-container {/* jupyter's `normalize.less` sets `[hidden] { display: none; }` but bootstrap.min.css set `[hidden] { display: none !important; }` so we also need the `!important` here to be able to override the default hidden behavior on the sphinx rendered scikit-learn.org. See: https://github.com/scikit-learn/scikit-learn/issues/21755 */display: inline-block !important;position: relative;}#sk-container-id-1 div.sk-text-repr-fallback {display: none;}</style><div id=\"sk-container-id-1\" class=\"sk-top-container\"><div class=\"sk-text-repr-fallback\"><pre>DecisionTreeClassifier(criterion=&#x27;entropy&#x27;, random_state=2024)</pre><b>In a Jupyter environment, please rerun this cell to show the HTML representation or trust the notebook. <br />On GitHub, the HTML representation is unable to render, please try loading this page with nbviewer.org.</b></div><div class=\"sk-container\" hidden><div class=\"sk-item\"><div class=\"sk-estimator sk-toggleable\"><input class=\"sk-toggleable__control sk-hidden--visually\" id=\"sk-estimator-id-1\" type=\"checkbox\" checked><label for=\"sk-estimator-id-1\" class=\"sk-toggleable__label sk-toggleable__label-arrow\">DecisionTreeClassifier</label><div class=\"sk-toggleable__content\"><pre>DecisionTreeClassifier(criterion=&#x27;entropy&#x27;, random_state=2024)</pre></div></div></div></div></div>"
      ],
      "text/plain": [
       "DecisionTreeClassifier(criterion='entropy', random_state=2024)"
      ]
     },
     "execution_count": 20,
     "metadata": {},
     "output_type": "execute_result"
    }
   ],
   "source": [
    "dt = DecisionTreeClassifier(criterion='entropy', random_state=seed)\n",
    "dt.fit(X_train_preprocessed, y_train)"
   ]
  },
  {
   "cell_type": "markdown",
   "metadata": {},
   "source": [
    "We then use this model to make predictions and see how it performs using the training data. We use the AUC metric to check the predictive performance."
   ]
  },
  {
   "cell_type": "code",
   "execution_count": 21,
   "metadata": {},
   "outputs": [
    {
     "data": {
      "text/plain": [
       "1.0"
      ]
     },
     "execution_count": 21,
     "metadata": {},
     "output_type": "execute_result"
    }
   ],
   "source": [
    "y_hat_train = dt.predict(X_train_preprocessed)\n",
    "\n",
    "false_positive_rate, true_positive_rate, thresholds = roc_curve(y_train, y_hat_train)\n",
    "roc_auc = auc(false_positive_rate, true_positive_rate)\n",
    "roc_auc"
   ]
  },
  {
   "cell_type": "markdown",
   "metadata": {},
   "source": [
    "This model looks to have perfect score on the training data. Next we investigate its performance on unseen test data to determine if the model overfits. But first, we need to preprocess test data as well."
   ]
  },
  {
   "cell_type": "code",
   "execution_count": 22,
   "metadata": {},
   "outputs": [
    {
     "data": {
      "text/html": [
       "<div>\n",
       "<style scoped>\n",
       "    .dataframe tbody tr th:only-of-type {\n",
       "        vertical-align: middle;\n",
       "    }\n",
       "\n",
       "    .dataframe tbody tr th {\n",
       "        vertical-align: top;\n",
       "    }\n",
       "\n",
       "    .dataframe thead th {\n",
       "        text-align: right;\n",
       "    }\n",
       "</style>\n",
       "<table border=\"1\" class=\"dataframe\">\n",
       "  <thead>\n",
       "    <tr style=\"text-align: right;\">\n",
       "      <th></th>\n",
       "      <th>international plan_yes</th>\n",
       "      <th>voice mail plan_yes</th>\n",
       "      <th>customer service calls</th>\n",
       "      <th>number vmail messages</th>\n",
       "      <th>total day calls</th>\n",
       "      <th>total day minutes</th>\n",
       "      <th>total eve calls</th>\n",
       "      <th>total eve minutes</th>\n",
       "      <th>total intl calls</th>\n",
       "      <th>total intl minutes</th>\n",
       "      <th>total night calls</th>\n",
       "      <th>total night minutes</th>\n",
       "    </tr>\n",
       "  </thead>\n",
       "  <tbody>\n",
       "    <tr>\n",
       "      <th>1452</th>\n",
       "      <td>0</td>\n",
       "      <td>0</td>\n",
       "      <td>0.344437</td>\n",
       "      <td>-0.590043</td>\n",
       "      <td>1.787608</td>\n",
       "      <td>-0.608826</td>\n",
       "      <td>0.740282</td>\n",
       "      <td>-0.990405</td>\n",
       "      <td>-0.609688</td>\n",
       "      <td>0.726592</td>\n",
       "      <td>-1.382731</td>\n",
       "      <td>1.021871</td>\n",
       "    </tr>\n",
       "    <tr>\n",
       "      <th>391</th>\n",
       "      <td>0</td>\n",
       "      <td>0</td>\n",
       "      <td>-1.192028</td>\n",
       "      <td>-0.590043</td>\n",
       "      <td>1.437823</td>\n",
       "      <td>-1.313983</td>\n",
       "      <td>1.444001</td>\n",
       "      <td>1.111936</td>\n",
       "      <td>-0.609688</td>\n",
       "      <td>-0.546725</td>\n",
       "      <td>-1.179738</td>\n",
       "      <td>0.242456</td>\n",
       "    </tr>\n",
       "    <tr>\n",
       "      <th>2090</th>\n",
       "      <td>0</td>\n",
       "      <td>1</td>\n",
       "      <td>0.344437</td>\n",
       "      <td>2.116429</td>\n",
       "      <td>0.188590</td>\n",
       "      <td>0.801490</td>\n",
       "      <td>-0.063969</td>\n",
       "      <td>0.657642</td>\n",
       "      <td>0.199184</td>\n",
       "      <td>0.125303</td>\n",
       "      <td>-0.520011</td>\n",
       "      <td>-1.205313</td>\n",
       "    </tr>\n",
       "    <tr>\n",
       "      <th>230</th>\n",
       "      <td>1</td>\n",
       "      <td>0</td>\n",
       "      <td>-1.192028</td>\n",
       "      <td>-0.590043</td>\n",
       "      <td>0.438436</td>\n",
       "      <td>2.389440</td>\n",
       "      <td>-0.013703</td>\n",
       "      <td>-1.421100</td>\n",
       "      <td>-1.014124</td>\n",
       "      <td>0.089933</td>\n",
       "      <td>-1.331983</td>\n",
       "      <td>0.331702</td>\n",
       "    </tr>\n",
       "    <tr>\n",
       "      <th>2244</th>\n",
       "      <td>0</td>\n",
       "      <td>0</td>\n",
       "      <td>-0.423795</td>\n",
       "      <td>-0.590043</td>\n",
       "      <td>-0.810797</td>\n",
       "      <td>1.084988</td>\n",
       "      <td>-0.767688</td>\n",
       "      <td>-0.117215</td>\n",
       "      <td>-0.609688</td>\n",
       "      <td>0.231413</td>\n",
       "      <td>0.190463</td>\n",
       "      <td>0.629188</td>\n",
       "    </tr>\n",
       "    <tr>\n",
       "      <th>...</th>\n",
       "      <td>...</td>\n",
       "      <td>...</td>\n",
       "      <td>...</td>\n",
       "      <td>...</td>\n",
       "      <td>...</td>\n",
       "      <td>...</td>\n",
       "      <td>...</td>\n",
       "      <td>...</td>\n",
       "      <td>...</td>\n",
       "      <td>...</td>\n",
       "      <td>...</td>\n",
       "      <td>...</td>\n",
       "    </tr>\n",
       "    <tr>\n",
       "      <th>194</th>\n",
       "      <td>0</td>\n",
       "      <td>1</td>\n",
       "      <td>-0.423795</td>\n",
       "      <td>1.092359</td>\n",
       "      <td>-2.409815</td>\n",
       "      <td>1.985724</td>\n",
       "      <td>0.539219</td>\n",
       "      <td>-0.689508</td>\n",
       "      <td>-0.205252</td>\n",
       "      <td>-0.263766</td>\n",
       "      <td>-0.621508</td>\n",
       "      <td>-1.621794</td>\n",
       "    </tr>\n",
       "    <tr>\n",
       "      <th>2542</th>\n",
       "      <td>0</td>\n",
       "      <td>0</td>\n",
       "      <td>-0.423795</td>\n",
       "      <td>-0.590043</td>\n",
       "      <td>0.788222</td>\n",
       "      <td>1.445641</td>\n",
       "      <td>0.438688</td>\n",
       "      <td>1.338100</td>\n",
       "      <td>-0.609688</td>\n",
       "      <td>-0.263766</td>\n",
       "      <td>1.509917</td>\n",
       "      <td>-0.507211</td>\n",
       "    </tr>\n",
       "    <tr>\n",
       "      <th>1789</th>\n",
       "      <td>0</td>\n",
       "      <td>0</td>\n",
       "      <td>-1.192028</td>\n",
       "      <td>-0.590043</td>\n",
       "      <td>-0.510981</td>\n",
       "      <td>0.871467</td>\n",
       "      <td>1.745594</td>\n",
       "      <td>-2.526353</td>\n",
       "      <td>1.008057</td>\n",
       "      <td>-1.961521</td>\n",
       "      <td>-0.063278</td>\n",
       "      <td>-1.716990</td>\n",
       "    </tr>\n",
       "    <tr>\n",
       "      <th>742</th>\n",
       "      <td>0</td>\n",
       "      <td>1</td>\n",
       "      <td>2.649133</td>\n",
       "      <td>0.653471</td>\n",
       "      <td>0.588344</td>\n",
       "      <td>0.261407</td>\n",
       "      <td>1.544532</td>\n",
       "      <td>0.765807</td>\n",
       "      <td>-0.609688</td>\n",
       "      <td>0.408262</td>\n",
       "      <td>-0.114026</td>\n",
       "      <td>0.936591</td>\n",
       "    </tr>\n",
       "    <tr>\n",
       "      <th>1773</th>\n",
       "      <td>1</td>\n",
       "      <td>1</td>\n",
       "      <td>-0.423795</td>\n",
       "      <td>2.335873</td>\n",
       "      <td>-1.060643</td>\n",
       "      <td>0.767398</td>\n",
       "      <td>-1.320610</td>\n",
       "      <td>-0.876340</td>\n",
       "      <td>-0.609688</td>\n",
       "      <td>0.443632</td>\n",
       "      <td>1.205427</td>\n",
       "      <td>0.426897</td>\n",
       "    </tr>\n",
       "  </tbody>\n",
       "</table>\n",
       "<p>1000 rows × 12 columns</p>\n",
       "</div>"
      ],
      "text/plain": [
       "      international plan_yes  voice mail plan_yes  customer service calls  \\\n",
       "1452                       0                    0                0.344437   \n",
       "391                        0                    0               -1.192028   \n",
       "2090                       0                    1                0.344437   \n",
       "230                        1                    0               -1.192028   \n",
       "2244                       0                    0               -0.423795   \n",
       "...                      ...                  ...                     ...   \n",
       "194                        0                    1               -0.423795   \n",
       "2542                       0                    0               -0.423795   \n",
       "1789                       0                    0               -1.192028   \n",
       "742                        0                    1                2.649133   \n",
       "1773                       1                    1               -0.423795   \n",
       "\n",
       "      number vmail messages  total day calls  total day minutes  \\\n",
       "1452              -0.590043         1.787608          -0.608826   \n",
       "391               -0.590043         1.437823          -1.313983   \n",
       "2090               2.116429         0.188590           0.801490   \n",
       "230               -0.590043         0.438436           2.389440   \n",
       "2244              -0.590043        -0.810797           1.084988   \n",
       "...                     ...              ...                ...   \n",
       "194                1.092359        -2.409815           1.985724   \n",
       "2542              -0.590043         0.788222           1.445641   \n",
       "1789              -0.590043        -0.510981           0.871467   \n",
       "742                0.653471         0.588344           0.261407   \n",
       "1773               2.335873        -1.060643           0.767398   \n",
       "\n",
       "      total eve calls  total eve minutes  total intl calls  \\\n",
       "1452         0.740282          -0.990405         -0.609688   \n",
       "391          1.444001           1.111936         -0.609688   \n",
       "2090        -0.063969           0.657642          0.199184   \n",
       "230         -0.013703          -1.421100         -1.014124   \n",
       "2244        -0.767688          -0.117215         -0.609688   \n",
       "...               ...                ...               ...   \n",
       "194          0.539219          -0.689508         -0.205252   \n",
       "2542         0.438688           1.338100         -0.609688   \n",
       "1789         1.745594          -2.526353          1.008057   \n",
       "742          1.544532           0.765807         -0.609688   \n",
       "1773        -1.320610          -0.876340         -0.609688   \n",
       "\n",
       "      total intl minutes  total night calls  total night minutes  \n",
       "1452            0.726592          -1.382731             1.021871  \n",
       "391            -0.546725          -1.179738             0.242456  \n",
       "2090            0.125303          -0.520011            -1.205313  \n",
       "230             0.089933          -1.331983             0.331702  \n",
       "2244            0.231413           0.190463             0.629188  \n",
       "...                  ...                ...                  ...  \n",
       "194            -0.263766          -0.621508            -1.621794  \n",
       "2542           -0.263766           1.509917            -0.507211  \n",
       "1789           -1.961521          -0.063278            -1.716990  \n",
       "742             0.408262          -0.114026             0.936591  \n",
       "1773            0.443632           1.205427             0.426897  \n",
       "\n",
       "[1000 rows x 12 columns]"
      ]
     },
     "execution_count": 22,
     "metadata": {},
     "output_type": "execute_result"
    }
   ],
   "source": [
    "y_test = y_test.astype(int)\n",
    "\n",
    "X_test_cat = [\"international plan\", \"voice mail plan\"]\n",
    "X_test_cont = X_train_cont\n",
    "\n",
    "X_test_cat_ohe = pd.get_dummies(X_test[X_test_cat], prefix=X_test_cat, drop_first=True)\n",
    "\n",
    "X_test_cont_df = X_test.loc[:, X_test_cont]\n",
    "X_test_cont_scaled = scaler.transform(X_test_cont_df)\n",
    "\n",
    "X_test_cont_scaled_df = pd.DataFrame(\n",
    "    X_test_cont_scaled, index=X_test_cont_df.index, columns=X_test_cont_df.columns)\n",
    "\n",
    "X_test_preprocessed = pd.concat([X_test_cat_ohe, X_test_cont_scaled_df], axis=1)\n",
    "X_test_preprocessed"
   ]
  },
  {
   "cell_type": "code",
   "execution_count": 23,
   "metadata": {},
   "outputs": [
    {
     "data": {
      "text/plain": [
       "0.8340822440087147"
      ]
     },
     "execution_count": 23,
     "metadata": {},
     "output_type": "execute_result"
    }
   ],
   "source": [
    "y_pred = dt.predict(X_test_preprocessed)\n",
    "\n",
    "false_positive_rate, true_positive_rate, thresholds = roc_curve(y_test, y_pred)\n",
    "roc_auc = auc(false_positive_rate, true_positive_rate)\n",
    "roc_auc"
   ]
  },
  {
   "cell_type": "markdown",
   "metadata": {},
   "source": [
    "Here we see that the test AUC score is significantly lower than the train one. It looks like the model overfits to the training data but is not fit to perform when presented with new data."
   ]
  },
  {
   "cell_type": "markdown",
   "metadata": {},
   "source": [
    "We shall try tune different parameters of the model and see whether its performance improves."
   ]
  },
  {
   "cell_type": "code",
   "execution_count": 24,
   "metadata": {},
   "outputs": [
    {
     "data": {
      "image/png": "[encoded data removed]",
      "text/plain": [
       "<Figure size 864x432 with 1 Axes>"
      ]
     },
     "metadata": {
      "needs_background": "light"
     },
     "output_type": "display_data"
    }
   ],
   "source": [
    "# Find the optimal tree depth \n",
    "max_depths = list(range(1, 33))\n",
    "train_results = []\n",
    "test_results = []\n",
    "for max_depth in max_depths:\n",
    "    dt = DecisionTreeClassifier(criterion='entropy', max_depth=max_depth, random_state=seed)\n",
    "    dt.fit(X_train_preprocessed, y_train)\n",
    "    \n",
    "    train_pred = dt.predict(X_train_preprocessed)\n",
    "    false_positive_rate, true_positive_rate, thresholds = roc_curve(y_train, train_pred)\n",
    "    roc_auc = auc(false_positive_rate, true_positive_rate)\n",
    "    train_results.append(roc_auc)\n",
    "    \n",
    "    y_pred = dt.predict(X_test_preprocessed)\n",
    "    false_positive_rate, true_positive_rate, thresholds = roc_curve(y_test, y_pred)\n",
    "    roc_auc = auc(false_positive_rate, true_positive_rate)\n",
    "    test_results.append(roc_auc)\n",
    "\n",
    "plt.figure(figsize=(12,6))\n",
    "plt.plot(max_depths, train_results, 'b', label='Train AUC')\n",
    "plt.plot(max_depths, test_results, 'r', label='Test AUC')\n",
    "plt.ylabel('AUC score')\n",
    "plt.xlabel('Tree depth')\n",
    "plt.legend()\n",
    "plt.show()"
   ]
  },
  {
   "cell_type": "markdown",
   "metadata": {},
   "source": [
    "We have investigated different maximum depths of the model to find an optimal hyperparameter. The optimum value seen here is 5. After this value, the model clearly overfits to the training data."
   ]
  },
  {
   "cell_type": "code",
   "execution_count": 25,
   "metadata": {},
   "outputs": [
    {
     "data": {
      "image/png": "[encoded data removed]",
      "text/plain": [
       "<Figure size 864x432 with 1 Axes>"
      ]
     },
     "metadata": {
      "needs_background": "light"
     },
     "output_type": "display_data"
    }
   ],
   "source": [
    "# Find the optimal min-samples-split \n",
    "min_samples_splits = np.linspace(0.1, 1.0, 10, endpoint=True)\n",
    "train_results = []\n",
    "test_results = []\n",
    "for min_samples_split in min_samples_splits:\n",
    "    dt = DecisionTreeClassifier(criterion='entropy', min_samples_split=min_samples_split, random_state=seed)\n",
    "    dt.fit(X_train_preprocessed, y_train)\n",
    "    \n",
    "    train_pred = dt.predict(X_train_preprocessed)\n",
    "    false_positive_rate, true_positive_rate, thresholds = roc_curve(y_train, train_pred)\n",
    "    roc_auc = auc(false_positive_rate, true_positive_rate)\n",
    "    train_results.append(roc_auc)\n",
    "    \n",
    "    y_pred = dt.predict(X_test_preprocessed)\n",
    "    false_positive_rate, true_positive_rate, thresholds = roc_curve(y_test, y_pred)\n",
    "    roc_auc = auc(false_positive_rate, true_positive_rate)\n",
    "    test_results.append(roc_auc)\n",
    "\n",
    "plt.figure(figsize=(12,6))\n",
    "plt.plot(min_samples_splits, train_results, 'b', label='Train AUC')\n",
    "plt.plot(min_samples_splits, test_results, 'r', label='Test AUC')\n",
    "plt.xlabel('Min. Sample splits')\n",
    "plt.ylabel('AUC score')\n",
    "plt.legend()\n",
    "plt.show()"
   ]
  },
  {
   "cell_type": "markdown",
   "metadata": {},
   "source": [
    "The AUC score drops fast up to 0.2 minimum sample splits but levels afterwards and with no clear effect on the dataset."
   ]
  },
  {
   "cell_type": "code",
   "execution_count": 26,
   "metadata": {},
   "outputs": [
    {
     "data": {
      "image/png": "[encoded data removed]",
      "text/plain": [
       "<Figure size 864x432 with 1 Axes>"
      ]
     },
     "metadata": {
      "needs_background": "light"
     },
     "output_type": "display_data"
    }
   ],
   "source": [
    "# Find the optimal value for minimum sample leafs\n",
    "min_samples_leafs = np.linspace(0.1, 0.5, 5, endpoint=True)\n",
    "train_results = []\n",
    "test_results = []\n",
    "for min_samples_leaf in min_samples_leafs:\n",
    "    dt = DecisionTreeClassifier(criterion='entropy', min_samples_leaf=min_samples_leaf, random_state=seed)\n",
    "    dt.fit(X_train_preprocessed, y_train)\n",
    "    \n",
    "    train_pred = dt.predict(X_train_preprocessed)\n",
    "    false_positive_rate, true_positive_rate, thresholds = roc_curve(y_train, train_pred)\n",
    "    roc_auc = auc(false_positive_rate, true_positive_rate)\n",
    "    train_results.append(roc_auc)\n",
    "    \n",
    "    y_pred = dt.predict(X_test_preprocessed)\n",
    "    false_positive_rate, true_positive_rate, thresholds = roc_curve(y_test, y_pred)\n",
    "    roc_auc = auc(false_positive_rate, true_positive_rate)\n",
    "    test_results.append(roc_auc)\n",
    "    \n",
    "plt.figure(figsize=(12,6))    \n",
    "plt.plot(min_samples_leafs, train_results, 'b', label='Train AUC')\n",
    "plt.plot(min_samples_leafs, test_results, 'r', label='Test AUC')\n",
    "plt.ylabel('AUC score')\n",
    "plt.xlabel('Min. Sample Leafs')\n",
    "plt.legend()\n",
    "plt.show()"
   ]
  },
  {
   "cell_type": "markdown",
   "metadata": {},
   "source": [
    "There is no clear effect on the dataset when the minimum sample leaf parameter is changed."
   ]
  },
  {
   "cell_type": "code",
   "execution_count": 27,
   "metadata": {},
   "outputs": [
    {
     "data": {
      "image/png": "[encoded data removed]",
      "text/plain": [
       "<Figure size 864x432 with 1 Axes>"
      ]
     },
     "metadata": {
      "needs_background": "light"
     },
     "output_type": "display_data"
    }
   ],
   "source": [
    "# Find optimal maximum feature size\n",
    "max_features = list(range(1, X_train_preprocessed.shape[1]))\n",
    "train_results = []\n",
    "test_results = []\n",
    "for max_feature in max_features:\n",
    "    dt = DecisionTreeClassifier(criterion='entropy', max_features=max_feature, random_state=seed)\n",
    "    dt.fit(X_train_preprocessed, y_train)\n",
    "    \n",
    "    train_pred = dt.predict(X_train_preprocessed)\n",
    "    false_positive_rate, true_positive_rate, thresholds = roc_curve(y_train, train_pred)\n",
    "    roc_auc = auc(false_positive_rate, true_positive_rate)\n",
    "    train_results.append(roc_auc)\n",
    "    \n",
    "    y_pred = dt.predict(X_test_preprocessed)\n",
    "    false_positive_rate, true_positive_rate, thresholds = roc_curve(y_test, y_pred)\n",
    "    roc_auc = auc(false_positive_rate, true_positive_rate)\n",
    "    test_results.append(roc_auc)\n",
    "\n",
    "plt.figure(figsize=(12,6))\n",
    "plt.plot(max_features, train_results, 'b', label='Train AUC')\n",
    "plt.plot(max_features, test_results, 'r', label='Test AUC')\n",
    "plt.ylabel('AUC score')\n",
    "plt.xlabel('max features')\n",
    "plt.legend()\n",
    "plt.show()"
   ]
  },
  {
   "cell_type": "markdown",
   "metadata": {},
   "source": [
    "The test score seems to increase though with fluctuations as the number of features selected increases."
   ]
  },
  {
   "cell_type": "markdown",
   "metadata": {},
   "source": [
    "Let's fit a final decision tree model with the optimal value for maximum depth identified above."
   ]
  },
  {
   "cell_type": "code",
   "execution_count": 28,
   "metadata": {},
   "outputs": [
    {
     "data": {
      "text/plain": [
       "(0.8669475957059648, 0.8605324074074073)"
      ]
     },
     "execution_count": 28,
     "metadata": {},
     "output_type": "execute_result"
    }
   ],
   "source": [
    "# Train a classifier with optimal values identified above\n",
    "dt = DecisionTreeClassifier(criterion='entropy', max_depth=5, random_state=seed)\n",
    "dt.fit(X_train_preprocessed, y_train)\n",
    "\n",
    "train_pred = dt.predict(X_train_preprocessed)\n",
    "false_positive_rate, true_positive_rate, thresholds = roc_curve(y_train, train_pred)\n",
    "train_roc_auc = auc(false_positive_rate, true_positive_rate)\n",
    "\n",
    "y_pred = dt.predict(X_test_preprocessed)\n",
    "false_positive_rate, true_positive_rate, thresholds = roc_curve(y_test, y_pred)\n",
    "test_roc_auc = auc(false_positive_rate, true_positive_rate)\n",
    "\n",
    "train_roc_auc, test_roc_auc"
   ]
  },
  {
   "cell_type": "markdown",
   "metadata": {},
   "source": [
    "This gives us a fairly good model with a 0.86 AUC score on both the train and test sets. It performs well on test data and can therefore generalize to unseen data."
   ]
  },
  {
   "cell_type": "markdown",
   "metadata": {},
   "source": [
    "Next we shall try build another model with ```LogisticRegression``` and compare its performance to the Decision Tree classifier above."
   ]
  },
  {
   "cell_type": "code",
   "execution_count": 29,
   "metadata": {},
   "outputs": [],
   "source": [
    "from sklearn.linear_model import LogisticRegression\n",
    "from imblearn.over_sampling import SMOTE"
   ]
  },
  {
   "cell_type": "markdown",
   "metadata": {},
   "source": [
    "We start with a vanilla model."
   ]
  },
  {
   "cell_type": "code",
   "execution_count": 30,
   "metadata": {},
   "outputs": [
    {
     "name": "stdout",
     "output_type": "stream",
     "text": [
      "Train AUC: 0.7991168728650988\n",
      "Test AUC: 0.8123127723311546\n"
     ]
    }
   ],
   "source": [
    "# Initial Model\n",
    "logreg = LogisticRegression(fit_intercept=False, solver='liblinear')\n",
    "\n",
    "y_score = logreg.fit(X_train_preprocessed, y_train).decision_function(X_train_preprocessed)\n",
    "fpr, tpr, thresholds = roc_curve(y_train, y_score)\n",
    "print('Train AUC: {}'.format(auc(fpr, tpr)))\n",
    "\n",
    "y_score = logreg.decision_function(X_test_preprocessed)\n",
    "fpr, tpr, thresholds = roc_curve(y_test, y_score)\n",
    "print('Test AUC: {}'.format(auc(fpr, tpr)))"
   ]
  },
  {
   "cell_type": "markdown",
   "metadata": {},
   "source": [
    "Here, we see that the train and test AUC scores are not so far apart, but they are lower than what we have achieved with initial models. We shall proceed to tune hyperparameters."
   ]
  },
  {
   "cell_type": "code",
   "execution_count": 31,
   "metadata": {
    "scrolled": false
   },
   "outputs": [
    {
     "name": "stdout",
     "output_type": "stream",
     "text": [
      "LogisticRegression(C=0.001, fit_intercept=False, solver='liblinear')\n",
      "Train AUC: 0.7473350920419884\n",
      "Test AUC: 0.7628421160130718\n",
      "-------------------------------------------------------\n",
      "LogisticRegression(C=0.01, fit_intercept=False, solver='liblinear')\n",
      "Train AUC: 0.7615730865336897\n",
      "Test AUC: 0.7713694852941178\n",
      "-------------------------------------------------------\n",
      "LogisticRegression(C=0.1, fit_intercept=False, solver='liblinear')\n",
      "Train AUC: 0.7952018597038057\n",
      "Test AUC: 0.8062193627450981\n",
      "-------------------------------------------------------\n",
      "LogisticRegression(C=1, fit_intercept=False, solver='liblinear')\n",
      "Train AUC: 0.7991168728650988\n",
      "Test AUC: 0.8123127723311546\n",
      "-------------------------------------------------------\n",
      "LogisticRegression(C=10, fit_intercept=False, solver='liblinear')\n",
      "Train AUC: 0.7993258283488744\n",
      "Test AUC: 0.812780841503268\n",
      "-------------------------------------------------------\n",
      "LogisticRegression(C=100, fit_intercept=False, solver='liblinear')\n",
      "Train AUC: 0.7993635564223338\n",
      "Test AUC: 0.8128404139433553\n",
      "-------------------------------------------------------\n",
      "LogisticRegression(C=1000, fit_intercept=False, solver='liblinear')\n",
      "Train AUC: 0.7993650075020823\n",
      "Test AUC: 0.8128744553376906\n",
      "-------------------------------------------------------\n",
      "LogisticRegression(C=10000, fit_intercept=False, solver='liblinear')\n",
      "Train AUC: 0.7993679096615792\n",
      "Test AUC: 0.8128659449891067\n",
      "-------------------------------------------------------\n",
      "LogisticRegression(C=100000, fit_intercept=False, solver='liblinear')\n",
      "Train AUC: 0.7993679096615792\n",
      "Test AUC: 0.8128659449891067\n",
      "-------------------------------------------------------\n"
     ]
    },
    {
     "data": {
      "image/png": "[encoded data removed]",
      "text/plain": [
       "<Figure size 1080x720 with 1 Axes>"
      ]
     },
     "metadata": {
      "needs_background": "light"
     },
     "output_type": "display_data"
    }
   ],
   "source": [
    "# Compare a different regularization levels \n",
    "C_param_range = [0.001, 0.01, 0.1, 1, 10, 100, 1000, 10000, 100000]\n",
    "colors = sns.color_palette(\"husl\", 9)\n",
    "plt.figure(figsize=(15, 10))\n",
    "\n",
    "for n, c in enumerate(C_param_range):\n",
    "    logreg = LogisticRegression(fit_intercept=False, C=c, solver='liblinear')\n",
    "    model_log = logreg.fit(X_train_preprocessed, y_train)\n",
    "    print(model_log)\n",
    "    \n",
    "    y_score = logreg.fit(X_train_preprocessed, y_train).decision_function(X_train_preprocessed)\n",
    "    fpr, tpr, thresholds = roc_curve(y_train, y_score)\n",
    "    print('Train AUC: {}'.format(auc(fpr, tpr)))\n",
    "\n",
    "    y_score = logreg.decision_function(X_test_preprocessed)\n",
    "    fpr, tpr, thresholds = roc_curve(y_test, y_score)\n",
    "    print('Test AUC: {}'.format(auc(fpr, tpr)))\n",
    "    \n",
    "    print('-------------------------------------------------------')\n",
    "    \n",
    "    lw = 2\n",
    "    plt.plot(fpr, tpr, color=colors[n],\n",
    "             lw=lw, label='ROC curve Normalization Weight: {}'.format(C_param_range[n]))\n",
    "    \n",
    "plt.plot([0, 1], [0, 1], color='navy', lw=lw, linestyle='--')\n",
    "plt.xlim([0.0, 1.0])\n",
    "plt.ylim([0.0, 1.05])\n",
    "\n",
    "plt.yticks([i/20.0 for i in range(21)])\n",
    "plt.xticks([i/20.0 for i in range(21)])\n",
    "plt.xlabel('False Positive Rate')\n",
    "plt.ylabel('True Positive Rate')\n",
    "plt.title('Test data ROC Curve')\n",
    "plt.legend(loc='lower right')\n",
    "plt.show()"
   ]
  },
  {
   "cell_type": "markdown",
   "metadata": {},
   "source": [
    "The results above show an optimal C reqularization value of 10, beyond which there is negligible difference in the AUC scores."
   ]
  },
  {
   "cell_type": "markdown",
   "metadata": {},
   "source": [
    "Let's review the class imbalance in our dataset and apply Synthetic Minority Oversampling - SMOTE to address it."
   ]
  },
  {
   "cell_type": "code",
   "execution_count": 32,
   "metadata": {},
   "outputs": [
    {
     "name": "stdout",
     "output_type": "stream",
     "text": [
      "0    1986\n",
      "1     347\n",
      "Name: churn, dtype: int64\n",
      "\n",
      "\n",
      "0    1986\n",
      "1    1986\n",
      "Name: churn, dtype: int64\n"
     ]
    }
   ],
   "source": [
    "print(y_train.value_counts()) \n",
    "\n",
    "X_train_resampled, y_train_resampled = SMOTE().fit_resample(X_train_preprocessed, y_train) \n",
    "\n",
    "print('\\n')\n",
    "print(pd.Series(y_train_resampled).value_counts()) "
   ]
  },
  {
   "cell_type": "code",
   "execution_count": 33,
   "metadata": {},
   "outputs": [
    {
     "name": "stdout",
     "output_type": "stream",
     "text": [
      "LogisticRegression(C=0.001, fit_intercept=False, solver='liblinear')\n",
      "AUC for 0.001: 0.7942708333333333\n",
      "-------------------------------------------------------\n",
      "LogisticRegression(C=0.01, fit_intercept=False, solver='liblinear')\n",
      "AUC for 0.01: 0.819333809912854\n",
      "-------------------------------------------------------\n",
      "LogisticRegression(C=0.1, fit_intercept=False, solver='liblinear')\n",
      "AUC for 0.1: 0.8374523420479303\n",
      "-------------------------------------------------------\n",
      "LogisticRegression(C=1, fit_intercept=False, solver='liblinear')\n",
      "AUC for 1: 0.8390437772331155\n",
      "-------------------------------------------------------\n",
      "LogisticRegression(C=10, fit_intercept=False, solver='liblinear')\n",
      "AUC for 10: 0.8392139842047929\n",
      "-------------------------------------------------------\n",
      "LogisticRegression(C=100, fit_intercept=False, solver='liblinear')\n",
      "AUC for 100: 0.8392054738562091\n",
      "-------------------------------------------------------\n",
      "LogisticRegression(C=1000, fit_intercept=False, solver='liblinear')\n",
      "AUC for 1000: 0.8392224945533768\n",
      "-------------------------------------------------------\n",
      "LogisticRegression(C=10000, fit_intercept=False, solver='liblinear')\n",
      "AUC for 10000: 0.8392224945533768\n",
      "-------------------------------------------------------\n",
      "LogisticRegression(C=100000, fit_intercept=False, solver='liblinear')\n",
      "AUC for 100000: 0.8392224945533768\n",
      "-------------------------------------------------------\n"
     ]
    },
    {
     "data": {
      "image/png": "[encoded data removed]",
      "text/plain": [
       "<Figure size 720x576 with 1 Axes>"
      ]
     },
     "metadata": {
      "needs_background": "light"
     },
     "output_type": "display_data"
    }
   ],
   "source": [
    "# Comparing different regularization performances once again\n",
    "C_param_range = [0.001, 0.01, 0.1, 1, 10, 100, 1000, 10000, 100000]\n",
    "names = [0.001, 0.01, 0.1, 1, 10, 100, 1000, 10000, 100000]\n",
    "colors = sns.color_palette('Set2', n_colors=len(names))\n",
    "\n",
    "plt.figure(figsize=(10, 8))\n",
    "\n",
    "for n, c in enumerate(C_param_range):\n",
    "    # Fit a model\n",
    "    logreg = LogisticRegression(fit_intercept=False, C=c, solver='liblinear')\n",
    "    model_log = logreg.fit(X_train_resampled, y_train_resampled)\n",
    "    print(model_log)\n",
    "\n",
    "    y_score = logreg.fit(X_train_resampled, y_train_resampled).decision_function(X_test_preprocessed)\n",
    "\n",
    "    fpr, tpr, thresholds = roc_curve(y_test, y_score)\n",
    "    \n",
    "    print('AUC for {}: {}'.format(names[n], auc(fpr, tpr)))\n",
    "    print('-------------------------------------------------------')\n",
    "    \n",
    "    lw = 2\n",
    "    plt.plot(fpr, tpr, color=colors[n],\n",
    "             lw=lw, label='ROC curve Regularization Weight: {}'.format(names[n]))\n",
    "\n",
    "plt.plot([0, 1], [0, 1], color='navy', lw=lw, linestyle='--')\n",
    "plt.xlim([0.0, 1.0])\n",
    "plt.ylim([0.0, 1.05])\n",
    "plt.yticks([i/20.0 for i in range(21)])\n",
    "plt.xticks([i/20.0 for i in range(21)])\n",
    "plt.xlabel('False Positive Rate')\n",
    "plt.ylabel('True Positive Rate')\n",
    "plt.title('Test data ROC Curve')\n",
    "plt.legend(loc='lower right')\n",
    "plt.show()"
   ]
  },
  {
   "cell_type": "markdown",
   "metadata": {},
   "source": [
    "By applying SMOTE we have gotten a slight improvement in the model's performance to a test AUC score of about 0.83. Overally, the tuned Decision Tree model gives the best performance. "
   ]
  },
  {
   "cell_type": "markdown",
   "metadata": {},
   "source": [
    "#### Final Model"
   ]
  },
  {
   "cell_type": "markdown",
   "metadata": {},
   "source": [
    "We select the final model as the one that performed best, i.e. the tuned Decision Tree classifier."
   ]
  },
  {
   "cell_type": "code",
   "execution_count": 34,
   "metadata": {},
   "outputs": [
    {
     "data": {
      "image/png": "[encoded data removed]",
      "text/plain": [
       "<Figure size 432x288 with 2 Axes>"
      ]
     },
     "metadata": {
      "needs_background": "light"
     },
     "output_type": "display_data"
    },
    {
     "data": {
      "image/png": "[encoded data removed]",
      "text/plain": [
       "<Figure size 1080x720 with 1 Axes>"
      ]
     },
     "metadata": {
      "needs_background": "light"
     },
     "output_type": "display_data"
    },
    {
     "name": "stdout",
     "output_type": "stream",
     "text": [
      "AUC: 0.8605324074074073\n"
     ]
    }
   ],
   "source": [
    "# Train a classifier with optimal values identified above\n",
    "dt = DecisionTreeClassifier(criterion='entropy', max_depth=5, random_state=seed)\n",
    "dt.fit(X_train_preprocessed, y_train)\n",
    "\n",
    "y_pred = dt.predict(X_test_preprocessed)\n",
    "false_positive_rate, true_positive_rate, thresholds = roc_curve(y_test, y_pred)\n",
    "test_roc_auc = auc(false_positive_rate, true_positive_rate)\n",
    "\n",
    "# Confusion matrix \n",
    "from sklearn.metrics import confusion_matrix, ConfusionMatrixDisplay\n",
    "\n",
    "cm = confusion_matrix(y_test, y_pred, labels=dt.classes_)\n",
    "disp = ConfusionMatrixDisplay(confusion_matrix=cm, display_labels=dt.classes_)\n",
    "disp.plot()\n",
    "plt.grid(False)\n",
    "plt.show()\n",
    "\n",
    "# plot ROC curve\n",
    "plt.figure(figsize=(15, 10))\n",
    "sns.set_style('darkgrid', {'axes.facecolor': '0.9'})\n",
    "plt.plot(fpr, tpr, color='darkorange',\n",
    "             lw=2, label='ROC curve')\n",
    "    \n",
    "plt.plot([0, 1], [0, 1], color='navy', lw=lw, linestyle='--')\n",
    "plt.xlim([0.0, 1.0])\n",
    "plt.ylim([0.0, 1.05])\n",
    "\n",
    "plt.yticks([i/20.0 for i in range(21)])\n",
    "plt.xticks([i/20.0 for i in range(21)])\n",
    "plt.xlabel('False Positive Rate')\n",
    "plt.ylabel('True Positive Rate')\n",
    "plt.title('Test data ROC Curve')\n",
    "plt.legend(loc='lower right')\n",
    "plt.show();\n",
    "\n",
    "print(f'AUC: {test_roc_auc}')"
   ]
  },
  {
   "cell_type": "code",
   "execution_count": 35,
   "metadata": {},
   "outputs": [
    {
     "name": "stdout",
     "output_type": "stream",
     "text": [
      "Accuracy score: 0.941\n"
     ]
    }
   ],
   "source": [
    "# Accuracy score\n",
    "from sklearn.metrics import accuracy_score\n",
    "\n",
    "print(f\"Accuracy score: {accuracy_score(y_test, y_pred)}\")"
   ]
  },
  {
   "cell_type": "markdown",
   "metadata": {},
   "source": [
    "### EVALUATION"
   ]
  },
  {
   "cell_type": "markdown",
   "metadata": {},
   "source": [
    "The final model generated above following an iterative approach of trying to improve previous model performances shows a good AUC score of 0.86 on the test data. Its accuracy score on \"unseen\" test data means that 94% of the time, this model will give the correct prediction on whether a customer would churn or not. Given the business problem of trying to catch customers likely to churn so as to incentivize them, this model adequately addresses that need. Syriatel will be able to use this model to predict from customer mobile services usage the likelihood of a customer dropping them albeit occasional false positives and false negatives. "
   ]
  }
 ],
 "metadata": {
  "kernelspec": {
   "display_name": "Python 3 (ipykernel)",
   "language": "python",
   "name": "python3"
  },
  "language_info": {
   "codemirror_mode": {
    "name": "ipython",
    "version": 3
   },
   "file_extension": ".py",
   "mimetype": "text/x-python",
   "name": "python",
   "nbconvert_exporter": "python",
   "pygments_lexer": "ipython3",
   "version": "3.8.5"
  }
 },
 "nbformat": 4,
 "nbformat_minor": 2
}
